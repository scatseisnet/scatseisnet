{
 "cells": [
  {
   "attachments": {},
   "cell_type": "markdown",
   "id": "e0929444",
   "metadata": {},
   "source": [
    "# 1. Scattering network design\n",
    "\n",
    "Welcome to this tutorial on designing a seismic scattering network for the task\n",
    "at hand. In this Jupyter notebook, we will see the role and how to choose the\n",
    "parameters of the scattering network with illustrations. The parameter selection\n",
    "relies on the studies for clustering various types of seismic signals from\n",
    "continuous seismic data (see e.g., Andén and Mallat\n",
    "[2014](https://arxiv.org/abs/1304.6763), Seydoux et al.\n",
    "[2020](https://www.nature.com/articles/s41467-020-17841-x), and Steinmann et al.\n",
    "[2021](https://agupubs.onlinelibrary.wiley.com/doi/full/10.1029/2021JB022455),\n",
    "[2022](https://agupubs.onlinelibrary.wiley.com/doi/full/10.1029/2022GL098854)).\n",
    "This notebook introduces the basic concepts of scattering networks and then\n",
    "move on to implementing the technique using Python and the\n",
    "[scatseisnet](https://github.com/scatseisnet/scatseisnet) library.\n",
    "\n",
    "Made in 2022 by Léonard Seydoux and René Steinmann."
   ]
  },
  {
   "attachments": {},
   "cell_type": "markdown",
   "id": "d9a594ae",
   "metadata": {},
   "source": [
    "This notebook uses the __matplotlib__ library for plotting, please run the cell below if matplotlib is not installed."
   ]
  },
  {
   "cell_type": "code",
   "execution_count": null,
   "id": "ce542b9e",
   "metadata": {},
   "outputs": [],
   "source": []
  },
  {
   "cell_type": "code",
   "execution_count": null,
   "id": "8db7a2e3",
   "metadata": {},
   "outputs": [],
   "source": [
    "import os\n",
    "import pickle\n",
    "\n",
    "import matplotlib.pyplot as plt\n",
    "import numpy as np\n",
    "\n",
    "from scatseisnet import ScatteringNetwork"
   ]
  },
  {
   "attachments": {},
   "cell_type": "markdown",
   "id": "5907a5bc",
   "metadata": {},
   "source": [
    "## Select parameters\n",
    "\n",
    "The following cell defines the meta parameter of the network. The parameters are the ones used in the paper Steinmann et al. ([2021](https://agupubs.onlinelibrary.wiley.com/doi/full/10.1029/2021JB022455)) and are better argued in the paper. In this example, the network implements only two layers (i.e., two filter banks). Following Andén and Mallat ([2014](https://arxiv.org/abs/1304.6763)), adding more layers may only marginally impact the downstream task, althgouh we suggest to try with various number of layers. \n",
    "\n",
    "- The main parameter, the data __samling rate__ (`SAMPLING_RATE`, Hz) defines all the scales (in time and frequency). By default, if `None`, the sampling rate is unitary, which means that the scattering network also works with reduced dimensions. This should be given by the user or from the data.\n",
    "\n",
    "- The __segment duration__ (`SEGMENT`, in seconds) which is used later to chunk the data into pieces before passing it to the scattering network. This defines the temporal support of the wavelet for now, in order to allow for faster computation. After Steinmann et al. ([2021](https://agupubs.onlinelibrary.wiley.com/doi/full/10.1029/2021JB022455)), we chose this parameter such as the largest signal we seek for in the continuous data is half-way shorter than the window size. If the signal is continuous and self-similar, this may not apply. Note that we perform the pooling operation over the entire segment later on. The pooling type is settable a the transform moment, so the same scattering network can be used with multiple pooling types.  \n",
    "\n",
    "- The __scattering network__ properties are gathered into dictionaries within the `BANK` tuple, with keyword arguments passed to the `sn.wavelets.ComplexMorletBank` object:\n",
    "    - the number of `octaves` ($J$, `int`) covered by the filter banks per layer. This defines the frequency range of analysis of the input data, from the Nyquist frequency $f_N$ down to $f_N/2^J$, and should be decided according to the frequency range of interest for the task.\n",
    "    - the `resolution` ($Q$, `int`) represents the number of wavelets for each octave, so the frequency resolution of the filterbank. This should be large for the first layer (dense) and small for the other layers (sparse), as indicated in Andén and Mallat ([2014](https://arxiv.org/abs/1304.6763)).\n",
    "    - the `quality` factor (float) is the ratio between the center frequency of\n",
    "      every wavelet $f$ and the bandwidth $\\delta f$. Because we work with\n",
    "      constant-Q filters, this is defined from the entire filter bank. The lower\n",
    "      the quality factor, the more redundant the information in the scattering\n",
    "      coefficients. We suggest using a quality factor 1 at the first layer, and\n",
    "      a larger at the remaining layers.\n",
    "    "
   ]
  },
  {
   "cell_type": "code",
   "execution_count": null,
   "id": "f0601736",
   "metadata": {},
   "outputs": [],
   "source": [
    "import scatseisnet\n",
    "scatseisnet.__file__"
   ]
  },
  {
   "cell_type": "code",
   "execution_count": null,
   "id": "555369e9",
   "metadata": {},
   "outputs": [],
   "source": [
    "segment_duration_seconds = 20.0\n",
    "sampling_rate_hertz = 50.0\n",
    "samples_per_segment = int(segment_duration_seconds * sampling_rate_hertz)\n",
    "bank_keyword_arguments = (\n",
    "    {\"octaves\": 4, \"resolution\": 4, \"quality\": 1},\n",
    "    {\"octaves\": 5, \"resolution\": 2, \"quality\": 3},\n",
    ")"
   ]
  },
  {
   "attachments": {},
   "cell_type": "markdown",
   "id": "3a78af3c",
   "metadata": {},
   "source": [
    "## Create scattering network\n",
    "\n",
    "We instantiate the network from the meta parameters defined in the previous cell. The following cell allows defining the scattering network graph. If the graph is defined with the CuPy library, the graph is not compiled until the first run of the network via the `.transform()` method. Otherwise, it is defined in NumPy and behave like a function."
   ]
  },
  {
   "cell_type": "code",
   "execution_count": null,
   "id": "bd7e3888",
   "metadata": {},
   "outputs": [],
   "source": [
    "network = ScatteringNetwork(\n",
    "    *bank_keyword_arguments,\n",
    "    bins=samples_per_segment,\n",
    "    sampling_rate=sampling_rate_hertz,\n",
    ")\n",
    "\n",
    "print(network)"
   ]
  },
  {
   "attachments": {},
   "cell_type": "markdown",
   "id": "6da2b097",
   "metadata": {},
   "source": [
    "Now we can save the scattering network as is in order to leter use it to transform segmented data into scattering coefficients. We here suggest to use the built-in Pickle Python library for that, althgough other strategies would likely work fine as well. Note that the Pickle library allow to serialize objects with methods and attributes included (with the `pickle.HIGHEST_PROTOCOL` enabled)."
   ]
  },
  {
   "cell_type": "code",
   "execution_count": null,
   "id": "f1704c58",
   "metadata": {},
   "outputs": [],
   "source": [
    "dirpath_save = \"../example\"\n",
    "\n",
    "# Create directory to save the results\n",
    "os.makedirs(dirpath_save, exist_ok=True)\n",
    "\n",
    "# Save the scattering network with Pickle\n",
    "filepath_save = os.path.join(dirpath_save, \"scattering_network.pickle\")\n",
    "with open(filepath_save, \"wb\") as file_save:\n",
    "    pickle.dump(network, file_save, protocol=pickle.HIGHEST_PROTOCOL)\n",
    "    "
   ]
  },
  {
   "attachments": {},
   "cell_type": "markdown",
   "id": "621e906f",
   "metadata": {},
   "source": [
    "## Vizualize the filter banks\n",
    "\n",
    "We can easily access and show the filter banks. These should be observed in order to ensure that they are correctly defined."
   ]
  },
  {
   "cell_type": "code",
   "execution_count": null,
   "id": "bb0ad5c0",
   "metadata": {},
   "outputs": [],
   "source": [
    "# Loop over network layers\n",
    "for bank in network.banks:\n",
    "\n",
    "    # Create axes (left for temporal, right for spectral domain)\n",
    "    fig, ax = plt.subplots(1, 2, sharey=True)\n",
    "\n",
    "    # Show each wavelet\n",
    "    for wavelet, spectrum, ratio in zip(\n",
    "        bank.wavelets, bank.spectra, bank.ratios\n",
    "    ):\n",
    "\n",
    "        # Time domain\n",
    "        ax[0].plot(bank.times, wavelet.real.get() + ratio, \"C0\") # This is for use with cupy\n",
    "        # ax[0].plot(bank.times, wavelet.real + ratio, \"C0\") # This is for use with numpy\n",
    "\n",
    "        # Spectral domain (log of amplitude)\n",
    "        ax[1].plot(bank.frequencies, np.log(np.abs(spectrum.get()) + 1) + ratio, \"C0\") # This is for use with cupy\n",
    "        # ax[1].plot(bank.frequencies, np.log(np.abs(spectrum) + 1) + ratio, \"C0\") # This is for use with numpy\n",
    "\n",
    "\n",
    "    # Limit view to three times the temporal width of largest wavelet\n",
    "    width_max = 3 * bank.widths.max()\n",
    "\n",
    "    # Labels\n",
    "    ax[0].set_ylabel(\"Octaves (base 2 log)\")\n",
    "    ax[0].set_xlabel(\"Time (seconds)\")\n",
    "    ax[0].set_xlim(-width_max, width_max)\n",
    "    ax[0].grid()\n",
    "    ax[1].set_xscale(\"log\")\n",
    "    ax[1].set_xlabel(\"Frequency (Hz)\")\n",
    "    ax[1].grid()\n"
   ]
  },
  {
   "attachments": {},
   "cell_type": "markdown",
   "id": "c10a3a7a",
   "metadata": {},
   "source": [
    "__First layer__: in the time domain, the mother wavelet at highest frequency (located at the octave 0 - 1/$Q$, where $Q$ is the number of wavelets per octavte) has a duration of about 0.25 seconds. In the frequency domain, we see that its corresponding frequency bandwidth is between ca. 8 and 25 Hz, with a center frequency of about 20 Hz. The wavelet bank then covers all the frequencies down to ca. 0.9 Hz, with a typical duration of about 1 second. This indicates that the signals we will be able to analyse later are located between 0.9 and 25 Hz. \n",
    "\n",
    "__Second layer__: while the first layer allows to select the frequency range of interest, the second-order wavelet bank will be crucial to evaluate the envelope modulations and durations. We also use a sparser wavelet bank, ranging from 0.9 to 20 Hz with less wavelets per octaves and non-overlapping frequency supports."
   ]
  },
  {
   "cell_type": "markdown",
   "id": "a1be8c3c",
   "metadata": {},
   "source": []
  }
 ],
 "metadata": {
  "kernelspec": {
   "display_name": "scatseisnet",
   "language": "python",
   "name": "python3"
  },
  "language_info": {
   "codemirror_mode": {
    "name": "ipython",
    "version": 3
   },
   "file_extension": ".py",
   "mimetype": "text/x-python",
   "name": "python",
   "nbconvert_exporter": "python",
   "pygments_lexer": "ipython3",
   "version": "3.11.0"
  },
  "vscode": {
   "interpreter": {
    "hash": "ff40ac3a3ffdf777b2291a6e55c1e0c401660695396eac1c1a92baa29c863b6b"
   }
  }
 },
 "nbformat": 4,
 "nbformat_minor": 5
}
