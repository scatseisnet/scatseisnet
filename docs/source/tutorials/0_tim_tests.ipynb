{
 "cells": [
  {
   "cell_type": "code",
   "execution_count": 1,
   "metadata": {},
   "outputs": [
    {
     "name": "stdout",
     "output_type": "stream",
     "text": [
      "2\n",
      "(64,)\n",
      "(64, 12)\n"
     ]
    }
   ],
   "source": [
    "import numpy as np\n",
    "from scatseisnet import ScatteringNetwork\n",
    "\n",
    "layer_kwargs = [\n",
    "    {\"octaves\": 8, \"resolution\": 8},\n",
    "    {\"octaves\": 12, \"resolution\": 1},\n",
    "]\n",
    "network = ScatteringNetwork(*layer_kwargs)\n",
    "\n",
    "segment = np.random.randn(128)\n",
    "\n",
    "scattering_coefficients = network.transform_segment(segment, reduce_type=np.max)\n",
    "\n",
    "\n",
    "print( len(scattering_coefficients) )\n",
    "print( scattering_coefficients[0].shape )\n",
    "print( scattering_coefficients[1].shape )\n",
    "\n"
   ]
  },
  {
   "cell_type": "code",
   "execution_count": null,
   "metadata": {},
   "outputs": [],
   "source": [
    "import numpy as np\n",
    "from scatseisnet import ScatteringNetwork"
   ]
  },
  {
   "cell_type": "code",
   "execution_count": null,
   "metadata": {},
   "outputs": [],
   "source": [
    "\n",
    "\n",
    "\n",
    "layer_kwargs = [\n",
    "    {\"octaves\": 8, \"resolution\": 8},\n",
    "    {\"octaves\": 12, \"resolution\": 1},\n",
    "]\n",
    "\n",
    "network = ScatteringNetwork(*layer_kwargs)\n"
   ]
  },
  {
   "cell_type": "code",
   "execution_count": null,
   "metadata": {},
   "outputs": [],
   "source": [
    "\n",
    "segment = np.random.randn(128)\n",
    "scattering_coefficients = network.transform_segment(segment, reduce_type=np.max)#'max')\n"
   ]
  },
  {
   "cell_type": "code",
   "execution_count": null,
   "metadata": {},
   "outputs": [],
   "source": [
    "\n",
    "len(scattering_coefficients)\n"
   ]
  },
  {
   "cell_type": "code",
   "execution_count": null,
   "metadata": {},
   "outputs": [],
   "source": [
    "\n",
    "scattering_coefficients[0].shape\n"
   ]
  },
  {
   "cell_type": "code",
   "execution_count": null,
   "metadata": {},
   "outputs": [],
   "source": [
    "\n",
    "scattering_coefficients[1].shape\n"
   ]
  },
  {
   "cell_type": "code",
   "execution_count": null,
   "metadata": {},
   "outputs": [],
   "source": [
    "scattering_coefficients\n",
    "# np.__name__"
   ]
  },
  {
   "cell_type": "code",
   "execution_count": null,
   "metadata": {},
   "outputs": [],
   "source": []
  }
 ],
 "metadata": {
  "kernelspec": {
   "display_name": "scatseisnet230330",
   "language": "python",
   "name": "python3"
  },
  "language_info": {
   "codemirror_mode": {
    "name": "ipython",
    "version": 3
   },
   "file_extension": ".py",
   "mimetype": "text/x-python",
   "name": "python",
   "nbconvert_exporter": "python",
   "pygments_lexer": "ipython3",
   "version": "3.11.0"
  },
  "orig_nbformat": 4
 },
 "nbformat": 4,
 "nbformat_minor": 2
}
