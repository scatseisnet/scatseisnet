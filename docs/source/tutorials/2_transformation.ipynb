{
 "cells": [
  {
   "attachments": {},
   "cell_type": "markdown",
   "id": "e0929444",
   "metadata": {},
   "source": [
    "# 2. Scattering transform\n",
    "\n",
    "Welcome to this tutorial on transforming seismic data into scattering\n",
    "coefficients using a scattering network. In this Jupyter notebook, we will walk\n",
    "through the process of using the scattering network to extract useful features\n",
    "from seismic data. This technique has been proven to be efficient for clustering\n",
    "various types of seismic signals from continuous seismic data. We will begin by\n",
    "introducing the basic concepts of scattering networks and then move on to\n",
    "implementing the technique using Python and the scatseisnet library.\n",
    "\n",
    "Made in 2022 by René Steinmann and Léonard Seydoux."
   ]
  },
  {
   "attachments": {},
   "cell_type": "markdown",
   "id": "7c134ff2",
   "metadata": {},
   "source": [
    "This notebook uses the __matplotlib__ and __obspy__ library, please run the cell below if the packages are not installed."
   ]
  },
  {
   "cell_type": "code",
   "execution_count": null,
   "id": "a35223a0",
   "metadata": {},
   "outputs": [],
   "source": []
  },
  {
   "cell_type": "code",
   "execution_count": null,
   "id": "8db7a2e3",
   "metadata": {},
   "outputs": [],
   "source": [
    "import pickle\n",
    "\n",
    "import numpy as np\n",
    "from matplotlib import dates as mdates\n",
    "from matplotlib import pyplot as plt\n",
    "\n",
    "from obspy.clients.fdsn import Client\n",
    "from obspy.core import UTCDateTime\n",
    "\n",
    "plt.rcParams[\"date.converter\"] = \"concise\""
   ]
  },
  {
   "attachments": {},
   "cell_type": "markdown",
   "id": "7d06b446",
   "metadata": {},
   "source": [
    "## Load scattering network\n",
    "\n",
    "First, we need to load the scattering network. We will use the network designed\n",
    "in the previous tutorial."
   ]
  },
  {
   "cell_type": "code",
   "execution_count": null,
   "id": "39c37bc4",
   "metadata": {},
   "outputs": [],
   "source": [
    "network = pickle.load(open(\"../example/scattering_network.pickle\", \"rb\"))"
   ]
  },
  {
   "attachments": {},
   "cell_type": "markdown",
   "id": "f9cc0fbf",
   "metadata": {},
   "source": [
    "## Load seismograms\n",
    "\n",
    "### Download or read seismograms\n",
    "\n",
    "This case serves as a basic example of how the scattering network can be applied\n",
    "to various data sets. The example data used in this case is a small subset of\n",
    "the data from the [IRIS data center](https://ds.iris.edu/ds/nodes/dmc/),\n",
    "specifically one day of three-component data from our study Steinmann et al.\n",
    "([2021](https://agupubs.onlinelibrary.wiley.com/doi/full/10.1029/2021JB022455)).\n",
    "Note that this can be easily adapted to handle larger and more complex data sets\n",
    "by simply adjusting the input parameters and increasing the computational\n",
    "resources. Also consider the other notebooks for adapting to computing clusters. \n",
    "\n",
    "Depending on the place you are working in, you might need to download the data\n",
    "from another datacenter. In this case, you can use the following code to\n",
    "download the data from the IRIS data center. If you already have the data\n",
    "available, you can skip this step and directly read you data. From Paris or\n",
    "Grenoble this cell takes about 5 minutes to run."
   ]
  },
  {
   "cell_type": "code",
   "execution_count": null,
   "id": "7d006638",
   "metadata": {},
   "outputs": [],
   "source": [
    "# Connect to the IRIS datacenter\n",
    "client = Client(\"IRIS\")\n",
    "\n",
    "# Collect waveforms from the datacenter\n",
    "stream = client.get_waveforms(\n",
    "    network=\"YH\",\n",
    "    station=\"DC08\",\n",
    "    location=\"*\",\n",
    "    channel=\"*\",\n",
    "    starttime=UTCDateTime(\"2012-07-25T00:00\"),\n",
    "    endtime=UTCDateTime(\"2012-07-26T00:00\"),\n",
    ")"
   ]
  },
  {
   "attachments": {},
   "cell_type": "markdown",
   "id": "790a1ca6",
   "metadata": {},
   "source": [
    "### Pre-processing\n",
    "\n",
    "It may often be useful to remove the trend, merge potentially non-overlapping\n",
    "segments, etc. For finding the best processing strategy, depending on the data\n",
    "at hand, we suggest to have a look at the different [signal processing routines\n",
    "for ObsPy](https://docs.obspy.org/packages/obspy.signal.html). In the following\n",
    "cell, we merge together the potentially non-overlapping data segments, detrend\n",
    "the resulting trace and high-pass filter it above 1 Hz.\n",
    "\n",
    "You surely need to adapt this cell to your data, and task at hand."
   ]
  },
  {
   "cell_type": "code",
   "execution_count": null,
   "id": "a597efb1",
   "metadata": {},
   "outputs": [],
   "source": [
    "stream.merge(method=1)\n",
    "stream.detrend(\"linear\")\n",
    "stream.filter(type=\"highpass\", freq=1.0)\n",
    "stream.plot(rasterized=True);\n",
    "\n",
    "stream.write(\"../example/scattering_stream.mseed\", format=\"MSEED\")"
   ]
  },
  {
   "attachments": {},
   "cell_type": "markdown",
   "id": "c38d374e",
   "metadata": {},
   "source": [
    "### Chunck seismograms\n",
    "\n",
    "This stage allow to chunk the data into equal-length segments with a duration defined in the tutorial 1 notebook. For this we need to load the scattering network previously defined, so we make sure that the data segmentation corresponds to the loaded network."
   ]
  },
  {
   "attachments": {},
   "cell_type": "markdown",
   "id": "b283f567",
   "metadata": {},
   "source": [
    "Now we chunk the data with the `stream.slide` method. Note that for larger datasets, this should be adapted since this method is not optimal."
   ]
  },
  {
   "cell_type": "code",
   "execution_count": null,
   "id": "3f4acf7b",
   "metadata": {},
   "outputs": [],
   "source": [
    "# Extract segment length (from any layer)\n",
    "segment_duration = network.bins / network.sampling_rate\n",
    "overlap = 0.5\n",
    "\n",
    "# Gather list for timestamps and segments\n",
    "timestamps = list()\n",
    "segments = list()\n",
    "\n",
    "# Collect data and timestamps\n",
    "for traces in stream.slide(segment_duration, segment_duration * overlap):\n",
    "    timestamps.append(mdates.num2date(traces[0].times(type=\"matplotlib\")[0]))\n",
    "    segments.append(np.array([trace.data[:-1] for trace in traces]))"
   ]
  },
  {
   "attachments": {},
   "cell_type": "markdown",
   "id": "bb394086",
   "metadata": {},
   "source": [
    "## Scattering transformation\n",
    "\n",
    "After collecting the data segments and the scattering network, we can now caclulate the scattering coefficients. Here we also set what kind of pooling we want to use by setting the `reduce_type` keyword argument to maximum (`max`) or average pooling (`average`). "
   ]
  },
  {
   "cell_type": "code",
   "execution_count": null,
   "id": "a3db56cb",
   "metadata": {},
   "outputs": [],
   "source": [
    "scattering_coefficients = network.transform(segments, reduce_type=np.max) # TCB finds these are not expected to be complex, yet they are."
   ]
  },
  {
   "cell_type": "code",
   "execution_count": null,
   "id": "1bd93aca",
   "metadata": {},
   "outputs": [],
   "source": [
    "scattering_coefficients\n",
    "type(network)"
   ]
  },
  {
   "cell_type": "code",
   "execution_count": null,
   "id": "2cb6503c",
   "metadata": {},
   "outputs": [],
   "source": [
    "import scatseisnet\n",
    "scatseisnet.__file__"
   ]
  },
  {
   "attachments": {},
   "cell_type": "markdown",
   "id": "9ed574be",
   "metadata": {},
   "source": [
    "### Observe result from a single channel\n",
    "\n",
    "In the following example one can observe the scattering coefficients."
   ]
  },
  {
   "cell_type": "code",
   "execution_count": null,
   "id": "8dd2be40",
   "metadata": {},
   "outputs": [],
   "source": [
    "# Extract the first channel\n",
    "channel_id = 0\n",
    "trace = stream[channel_id]\n",
    "order_1 = np.log10(scattering_coefficients[0][:, channel_id, :].squeeze())\n",
    "center_frequencies = network.banks[0].centers\n",
    "\n",
    "# Create figure and axes\n",
    "fig, ax = plt.subplots(2, sharex=True, dpi=300)\n",
    "\n",
    "# Plot the waveform\n",
    "ax[0].plot(trace.times(\"matplotlib\"), trace.data, rasterized=True, lw=0.5)\n",
    "\n",
    "# First-order scattering coefficients\n",
    "ax[1].pcolormesh(timestamps, center_frequencies, order_1.T, rasterized=True)\n",
    "\n",
    "# ax[1].pcolormesh(timestamps, center_frequencies, np.abs(order_1.T), rasterized=True) # Mod by Tim to put abs of the order_1.T\n",
    "\n",
    "# Axes labels\n",
    "ax[1].set_yscale(\"log\")\n",
    "ax[0].set_ylabel(\"Counts\")\n",
    "ax[1].set_ylabel(\"Frequency (Hz)\")\n",
    "\n",
    "# Show\n",
    "plt.show()"
   ]
  },
  {
   "attachments": {},
   "cell_type": "markdown",
   "id": "ebaac46b",
   "metadata": {},
   "source": [
    "### Save outputs\n",
    "\n",
    "Until now, we applied the scattering network to the three-component seismic data. In the next tutorial, we use the FastICA to extract the most relevant features from the scattering coefficients. Therefore, we save the first and second-order scattering coefficients as a npz-file."
   ]
  },
  {
   "cell_type": "code",
   "execution_count": null,
   "id": "3d1242ba",
   "metadata": {},
   "outputs": [],
   "source": [
    "np.savez(\n",
    "    \"../example/scattering_coefficients.npz\",\n",
    "    order_1=scattering_coefficients[0],\n",
    "    order_2=scattering_coefficients[1],\n",
    "    times=timestamps,\n",
    ")"
   ]
  },
  {
   "cell_type": "code",
   "execution_count": null,
   "id": "d6fca12b",
   "metadata": {},
   "outputs": [],
   "source": []
  }
 ],
 "metadata": {
  "kernelspec": {
   "display_name": "scatseisnet",
   "language": "python",
   "name": "python3"
  },
  "language_info": {
   "codemirror_mode": {
    "name": "ipython",
    "version": 3
   },
   "file_extension": ".py",
   "mimetype": "text/x-python",
   "name": "python",
   "nbconvert_exporter": "python",
   "pygments_lexer": "ipython3",
   "version": "3.11.0"
  },
  "vscode": {
   "interpreter": {
    "hash": "ff40ac3a3ffdf777b2291a6e55c1e0c401660695396eac1c1a92baa29c863b6b"
   }
  }
 },
 "nbformat": 4,
 "nbformat_minor": 5
}
