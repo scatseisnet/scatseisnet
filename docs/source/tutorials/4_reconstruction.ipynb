{
 "cells": [
  {
   "attachments": {},
   "cell_type": "markdown",
   "id": "5fb0b379",
   "metadata": {},
   "source": [
    "# 4. Reconstruction from features\n",
    "\n",
    "After retrieving the most relevant features with an ICA from the scattering\n",
    "coefficients, we can now check what these features are actually telling us. So\n",
    "far, they seem abstract and have no physical unit. However, we can understand\n",
    "better the features, if we look on how they are constructed and how they would\n",
    "reconstruct its input, the scattering coefficients. This strategy was mainly\n",
    "discussed in this [paper](https://doi.org/10.1029/2022GL098854), where we can\n",
    "track the superficial freezing and thawing process on a single indepedent\n",
    "component.\n",
    "\n",
    "Made in 2022 by René Steinmann and Léonard Seydoux."
   ]
  },
  {
   "attachments": {},
   "cell_type": "markdown",
   "id": "356ce14f",
   "metadata": {},
   "source": [
    "This notebook uses the __matplotlib__ and __scikit-learn__ library, please run the cell below if the packages are not installed."
   ]
  },
  {
   "cell_type": "code",
   "execution_count": null,
   "id": "25ddd322",
   "metadata": {},
   "outputs": [],
   "source": []
  },
  {
   "cell_type": "code",
   "execution_count": null,
   "id": "07a95975",
   "metadata": {},
   "outputs": [],
   "source": [
    "import pickle\n",
    "\n",
    "import numpy as np\n",
    "import matplotlib.pylab as plt\n",
    "\n",
    "plt.rcParams[\"date.converter\"] = \"concise\""
   ]
  },
  {
   "attachments": {},
   "cell_type": "markdown",
   "id": "1f86a5c2",
   "metadata": {},
   "source": [
    "## Load the data\n",
    "For this notebook we need to load the scattering network model, the dimensionality reduction model and the independent components."
   ]
  },
  {
   "cell_type": "code",
   "execution_count": null,
   "id": "f07c3d55",
   "metadata": {},
   "outputs": [],
   "source": [
    "# Load the scattering network\n",
    "network = pickle.load(open(\"../example/scattering_network.pickle\", \"rb\"))\n",
    "\n",
    "# Load the dimensionality reduction model\n",
    "dimension_model = pickle.load(open(\"../example/dimension_model.pickle\", \"rb\"))\n",
    "\n",
    "# Load data from file\n",
    "with np.load(\"../example/independent_components.npz\", allow_pickle=True) as data:\n",
    "    features = data[\"features\"]\n",
    "    times = data[\"times\"]"
   ]
  },
  {
   "attachments": {},
   "cell_type": "markdown",
   "id": "07564103",
   "metadata": {},
   "source": [
    "## Feature\n",
    "\n",
    "FastICA finds a set of independent components $\\mathbf{s}$ by multiplying an unmixing matrix $\\mathbf{W}$ to the scattering coefficients stored in the matrix $\\mathbf{x}$: \n",
    "\n",
    "$$\\mathbf{s} = \\mathbf{W} \\mathbf{x}$$\n",
    "\n",
    "The FastICA model stores the unmixing matrix $\\mathbf{W}$ in the attribute ``.components_`` (more information on [sklearn](https://scikit-learn.org/stable/modules/generated/sklearn.decomposition.FastICA.html#sklearn.decomposition.FastICA)). We can extract the weights of the unmixing matrix and visualize it to understand better what each indepedent component 'means', since it connects the scattering coefficients to the independent components.\n",
    "To give an example on how to use the information of the unmixing matrix, we will\n",
    "choose one single independent component and extract the unmixing weights for\n",
    "that component.\n",
    "\n",
    "### Extract feature evolution"
   ]
  },
  {
   "cell_type": "code",
   "execution_count": null,
   "id": "9e0f691c",
   "metadata": {},
   "outputs": [],
   "source": [
    "# Pick a feature\n",
    "feature_id = 7\n",
    "feature = features[:, feature_id]\n",
    "\n",
    "# Figure creation\n",
    "fig = plt.figure()\n",
    "ax = plt.axes()\n",
    "\n",
    "# Plot the weights\n",
    "ax.plot(times, feature)\n",
    "ax.set_ylabel(f\"Amplitude of feature {feature_id}\")\n",
    "\n",
    "# Show\n",
    "plt.show()"
   ]
  },
  {
   "attachments": {},
   "cell_type": "markdown",
   "id": "2a2d6062",
   "metadata": {},
   "source": [
    "### Feature direction in the scattering space"
   ]
  },
  {
   "cell_type": "code",
   "execution_count": null,
   "id": "1af97c15",
   "metadata": {},
   "outputs": [],
   "source": [
    "# Etract weights from the dimensionality reduction model\n",
    "weights = dimension_model.components_[feature_id]\n",
    "vmax = np.abs(weights).max()\n",
    "\n",
    "# Scattering coefficients shape and frequencies\n",
    "n_cha = 3\n",
    "n_order_1 = network.banks[0].octaves * network.banks[0].resolution\n",
    "n_order_2 = network.banks[1].octaves * network.banks[1].resolution\n",
    "f_1 = network.banks[0].centers\n",
    "f_2 = network.banks[1].centers\n",
    "\n",
    "# Extract and reshape weights\n",
    "order_1 = weights[: n_cha * n_order_1].reshape(n_cha, n_order_1)\n",
    "order_2 = weights[n_cha * n_order_1 :].reshape(n_cha, n_order_1, n_order_2)\n",
    "\n",
    "# Show weights\n",
    "fig, ax = plt.subplots(nrows=2, ncols=3, sharex=True, sharey=\"row\")\n",
    "image_kw = dict(vmin=-vmax, vmax=vmax, rasterized=True, cmap=\"PuOr\")\n",
    "for id, channel in enumerate(\"ENZ\"):\n",
    "\n",
    "    # Show\n",
    "    ax[0, id].plot(f_1, order_1[id], label=channel)\n",
    "    mappable = ax[1, id].pcolormesh(f_1, f_2, order_2[id].T, **image_kw)\n",
    "\n",
    "    # Labels\n",
    "    ax[0, id].set_title(channel)\n",
    "    ax[1, id].set_xlabel(\"$f_1$ (Hz)\")\n",
    "\n",
    "# Labels\n",
    "ax[0, 0].set_ylabel(\"Unmixing weights\")\n",
    "ax[1, 0].set_ylabel(\"$f_2$ (Hz)\")\n",
    "ax[1, 0].set_xscale(\"log\")\n",
    "ax[1, 0].set_yscale(\"log\")\n",
    "\n",
    "# Colorbar\n",
    "colorbar = fig.colorbar(mappable, orientation=\"horizontal\", ax=ax, shrink=0.3)\n",
    "colorbar.set_label(\"Unmixing weights\")\n",
    "\n",
    "# Show\n",
    "plt.show()"
   ]
  },
  {
   "attachments": {},
   "cell_type": "markdown",
   "id": "aa5a52f2",
   "metadata": {},
   "source": [
    "## Reconstruction\n",
    "\n",
    "We here reconstruct the scattering coefficients from a selected independent\n",
    "components. We only show the first order coefficients, since the second order\n",
    "coefficients are hard to map as a function of time. "
   ]
  },
  {
   "cell_type": "code",
   "execution_count": null,
   "id": "61278419",
   "metadata": {},
   "outputs": [],
   "source": [
    "# Filter out latent space\n",
    "features_filtered = np.zeros(features.shape)\n",
    "features_filtered[:, feature_id] = feature\n",
    "\n",
    "# Extract all scattering coefficients\n",
    "reconstructed = dimension_model.inverse_transform(features_filtered)\n",
    "reconstructed_order_1 = reconstructed[:, : n_cha * n_order_1].reshape(-1, n_cha, n_order_1)\n",
    "vmin = reconstructed_order_1.min()\n",
    "vmax = reconstructed_order_1.max()\n",
    "\n",
    "# Plot\n",
    "fig, ax = plt.subplots(nrows=3, sharex=True, sharey=\"row\")\n",
    "\n",
    "# Plot\n",
    "for id, channel in enumerate(\"ENZ\"):\n",
    "    data = reconstructed_order_1[:, id, :].squeeze().T\n",
    "    mappable = ax[id].pcolormesh(times, f_1, data, rasterized=True, vmin=vmin, vmax=vmax)\n",
    "    ax[id].set_ylabel(\"$f_1$ (Hz)\")\n",
    "    ax[id].set_yscale(\"log\")\n",
    "\n",
    "# Colorbar\n",
    "colorbar = fig.colorbar(mappable, orientation=\"vertical\", ax=ax, shrink=0.5)\n",
    "colorbar.set_label(\"Scattering coefficients\")"
   ]
  },
  {
   "cell_type": "code",
   "execution_count": null,
   "id": "daecd8f7",
   "metadata": {},
   "outputs": [],
   "source": []
  }
 ],
 "metadata": {
  "kernelspec": {
   "display_name": "calcite",
   "language": "python",
   "name": "python3"
  },
  "language_info": {
   "codemirror_mode": {
    "name": "ipython",
    "version": 3
   },
   "file_extension": ".py",
   "mimetype": "text/x-python",
   "name": "python",
   "nbconvert_exporter": "python",
   "pygments_lexer": "ipython3",
   "version": "3.11.0"
  },
  "vscode": {
   "interpreter": {
    "hash": "5d149311e5c9f98e1221145750d886da460c4fddffca98ab3723347113545849"
   }
  }
 },
 "nbformat": 4,
 "nbformat_minor": 5
}
